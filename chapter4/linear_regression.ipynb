{
 "cells": [
  {
   "cell_type": "markdown",
   "id": "e062438452e652ab",
   "metadata": {
    "collapsed": false
   },
   "source": [
    "# 线性回归"
   ]
  },
  {
   "cell_type": "markdown",
   "id": "9e9f7e35458921d3",
   "metadata": {
    "collapsed": false
   },
   "source": [
    "## 线性回归分析房屋信息"
   ]
  },
  {
   "cell_type": "code",
   "execution_count": 2,
   "id": "778a491c6a87a8dc",
   "metadata": {
    "ExecuteTime": {
     "end_time": "2024-01-20T07:33:25.525362Z",
     "start_time": "2024-01-20T07:33:22.890497Z"
    },
    "collapsed": false
   },
   "outputs": [],
   "source": [
    "import numpy as np\n",
    "import matplotlib.pyplot as plt\n",
    "from matplotlib.ticker import MaxNLocator\n",
    "from sklearn.preprocessing import StandardScaler"
   ]
  },
  {
   "cell_type": "code",
   "execution_count": 3,
   "id": "9200876842349bb0",
   "metadata": {
    "ExecuteTime": {
     "end_time": "2024-01-20T07:36:03.190762Z",
     "start_time": "2024-01-20T07:36:03.171674Z"
    },
    "collapsed": false
   },
   "outputs": [
    {
     "name": "stdout",
     "output_type": "stream",
     "text": [
      "数据特征： Avg. Area Income,Avg. Area House Age,Avg. Area Number of Rooms,Avg. Area Number of Bedrooms,Area Population\n",
      "数据标签 Price\n",
      "数据总条数 5000\n"
     ]
    }
   ],
   "source": [
    "#从源文件加载数据，并输出查看数据的各项特征\n",
    "lines = np.loadtxt('USA_Housing.csv', delimiter=',', dtype='str')\n",
    "header = lines[0]\n",
    "lines = lines[1:].astype(float)\n",
    "\n",
    "print('数据特征：', ','.join(header[:-1]))\n",
    "print('数据标签', header[-1])\n",
    "print('数据总条数', len(lines))"
   ]
  },
  {
   "cell_type": "code",
   "execution_count": 4,
   "id": "71b125f70e9e7cbd",
   "metadata": {
    "ExecuteTime": {
     "end_time": "2024-01-20T07:38:15.461738Z",
     "start_time": "2024-01-20T07:38:15.458238Z"
    },
    "collapsed": false
   },
   "outputs": [],
   "source": [
    "#划分训练集和测试集\n",
    "ratio = 0.8\n",
    "split = int(len(lines) * ratio)\n",
    "np.random.seed(0)\n",
    "lines = np.random.permutation(lines)\n",
    "train, test = lines[:split], lines[split:]"
   ]
  },
  {
   "cell_type": "code",
   "execution_count": 5,
   "id": "953895bc670ff14",
   "metadata": {
    "ExecuteTime": {
     "end_time": "2024-01-20T07:39:11.661601Z",
     "start_time": "2024-01-20T07:39:11.657984Z"
    },
    "collapsed": false
   },
   "outputs": [],
   "source": [
    "# 数据归一化\n",
    "scaler = StandardScaler()\n",
    "scaler.fit(train)\n",
    "train = scaler.transform(train)\n",
    "test = scaler.transform(test)"
   ]
  },
  {
   "cell_type": "code",
   "execution_count": 6,
   "id": "cc7a6082550ced50",
   "metadata": {
    "ExecuteTime": {
     "end_time": "2024-01-20T07:39:52.988527Z",
     "start_time": "2024-01-20T07:39:52.984274Z"
    },
    "collapsed": false
   },
   "outputs": [],
   "source": [
    "# 划分输入输出标签\n",
    "x_train, y_train = train[:, :-1], train[:, -1].flatten()\n",
    "x_test, y_test = test[:, :-1], test[:, 1].flatten()"
   ]
  },
  {
   "cell_type": "code",
   "execution_count": 7,
   "id": "8f62814ea450fce0",
   "metadata": {
    "ExecuteTime": {
     "end_time": "2024-01-20T07:44:17.326878Z",
     "start_time": "2024-01-20T07:44:17.313277Z"
    },
    "collapsed": false
   },
   "outputs": [
    {
     "name": "stdout",
     "output_type": "stream",
     "text": [
      "回归系数： [ 6.50881254e-01  4.67222833e-01  3.38466198e-01  6.17275856e-03\n",
      "  4.26857089e-01 -1.46133106e-14]\n"
     ]
    }
   ],
   "source": [
    "# 在X矩阵最后添加一列1，代表常数项\n",
    "X = np.concatenate([x_train, np.ones((len(x_train), 1))], axis=1)\n",
    "# @ 表示矩阵相乘，X.T表示矩阵的转置，np.linalg.inv函数可以计算矩阵的逆\n",
    "theta = np.linalg.inv(X.T @ X) @ X.T @ y_train\n",
    "print('回归系数：', theta)"
   ]
  },
  {
   "cell_type": "code",
   "execution_count": 9,
   "id": "c863f43bdb6a7db1",
   "metadata": {
    "ExecuteTime": {
     "end_time": "2024-01-20T07:45:32.570568Z",
     "start_time": "2024-01-20T07:45:32.563235Z"
    },
    "collapsed": false
   },
   "outputs": [],
   "source": [
    "# 在测试集上使用回归系数进行预测\n",
    "X_test = np.concatenate([x_test, np.ones((len(x_test), 1))], axis=1)\n",
    "y_pred = X_test @ theta"
   ]
  },
  {
   "cell_type": "code",
   "execution_count": 10,
   "id": "c41c99e08b1c2d74",
   "metadata": {
    "ExecuteTime": {
     "end_time": "2024-01-20T07:46:34.803521Z",
     "start_time": "2024-01-20T07:46:34.796281Z"
    },
    "collapsed": false
   },
   "outputs": [
    {
     "name": "stdout",
     "output_type": "stream",
     "text": [
      "RMSE： 1.0051766837744343\n"
     ]
    }
   ],
   "source": [
    "# 计算预测值和真实值之间的RMSE\n",
    "rmse_loss = np.sqrt(np.square(y_test - y_pred).mean())\n",
    "print('RMSE：', rmse_loss)"
   ]
  },
  {
   "cell_type": "markdown",
   "id": "627ad97049370705",
   "metadata": {
    "collapsed": false
   },
   "source": [
    "## 使用sklearn中的线性模型"
   ]
  },
  {
   "cell_type": "code",
   "execution_count": 11,
   "id": "e8281daf0102a4d6",
   "metadata": {
    "ExecuteTime": {
     "end_time": "2024-01-20T07:48:04.295335Z",
     "start_time": "2024-01-20T07:48:03.771895Z"
    },
    "collapsed": false
   },
   "outputs": [],
   "source": [
    "from sklearn.linear_model import LinearRegression"
   ]
  },
  {
   "cell_type": "code",
   "execution_count": 12,
   "id": "1b6120ac39e6c3a",
   "metadata": {
    "ExecuteTime": {
     "end_time": "2024-01-20T07:48:37.765942Z",
     "start_time": "2024-01-20T07:48:37.718719Z"
    },
    "collapsed": false
   },
   "outputs": [
    {
     "data": {
      "text/html": [
       "<style>#sk-container-id-1 {color: black;}#sk-container-id-1 pre{padding: 0;}#sk-container-id-1 div.sk-toggleable {background-color: white;}#sk-container-id-1 label.sk-toggleable__label {cursor: pointer;display: block;width: 100%;margin-bottom: 0;padding: 0.3em;box-sizing: border-box;text-align: center;}#sk-container-id-1 label.sk-toggleable__label-arrow:before {content: \"▸\";float: left;margin-right: 0.25em;color: #696969;}#sk-container-id-1 label.sk-toggleable__label-arrow:hover:before {color: black;}#sk-container-id-1 div.sk-estimator:hover label.sk-toggleable__label-arrow:before {color: black;}#sk-container-id-1 div.sk-toggleable__content {max-height: 0;max-width: 0;overflow: hidden;text-align: left;background-color: #f0f8ff;}#sk-container-id-1 div.sk-toggleable__content pre {margin: 0.2em;color: black;border-radius: 0.25em;background-color: #f0f8ff;}#sk-container-id-1 input.sk-toggleable__control:checked~div.sk-toggleable__content {max-height: 200px;max-width: 100%;overflow: auto;}#sk-container-id-1 input.sk-toggleable__control:checked~label.sk-toggleable__label-arrow:before {content: \"▾\";}#sk-container-id-1 div.sk-estimator input.sk-toggleable__control:checked~label.sk-toggleable__label {background-color: #d4ebff;}#sk-container-id-1 div.sk-label input.sk-toggleable__control:checked~label.sk-toggleable__label {background-color: #d4ebff;}#sk-container-id-1 input.sk-hidden--visually {border: 0;clip: rect(1px 1px 1px 1px);clip: rect(1px, 1px, 1px, 1px);height: 1px;margin: -1px;overflow: hidden;padding: 0;position: absolute;width: 1px;}#sk-container-id-1 div.sk-estimator {font-family: monospace;background-color: #f0f8ff;border: 1px dotted black;border-radius: 0.25em;box-sizing: border-box;margin-bottom: 0.5em;}#sk-container-id-1 div.sk-estimator:hover {background-color: #d4ebff;}#sk-container-id-1 div.sk-parallel-item::after {content: \"\";width: 100%;border-bottom: 1px solid gray;flex-grow: 1;}#sk-container-id-1 div.sk-label:hover label.sk-toggleable__label {background-color: #d4ebff;}#sk-container-id-1 div.sk-serial::before {content: \"\";position: absolute;border-left: 1px solid gray;box-sizing: border-box;top: 0;bottom: 0;left: 50%;z-index: 0;}#sk-container-id-1 div.sk-serial {display: flex;flex-direction: column;align-items: center;background-color: white;padding-right: 0.2em;padding-left: 0.2em;position: relative;}#sk-container-id-1 div.sk-item {position: relative;z-index: 1;}#sk-container-id-1 div.sk-parallel {display: flex;align-items: stretch;justify-content: center;background-color: white;position: relative;}#sk-container-id-1 div.sk-item::before, #sk-container-id-1 div.sk-parallel-item::before {content: \"\";position: absolute;border-left: 1px solid gray;box-sizing: border-box;top: 0;bottom: 0;left: 50%;z-index: -1;}#sk-container-id-1 div.sk-parallel-item {display: flex;flex-direction: column;z-index: 1;position: relative;background-color: white;}#sk-container-id-1 div.sk-parallel-item:first-child::after {align-self: flex-end;width: 50%;}#sk-container-id-1 div.sk-parallel-item:last-child::after {align-self: flex-start;width: 50%;}#sk-container-id-1 div.sk-parallel-item:only-child::after {width: 0;}#sk-container-id-1 div.sk-dashed-wrapped {border: 1px dashed gray;margin: 0 0.4em 0.5em 0.4em;box-sizing: border-box;padding-bottom: 0.4em;background-color: white;}#sk-container-id-1 div.sk-label label {font-family: monospace;font-weight: bold;display: inline-block;line-height: 1.2em;}#sk-container-id-1 div.sk-label-container {text-align: center;}#sk-container-id-1 div.sk-container {/* jupyter's `normalize.less` sets `[hidden] { display: none; }` but bootstrap.min.css set `[hidden] { display: none !important; }` so we also need the `!important` here to be able to override the default hidden behavior on the sphinx rendered scikit-learn.org. See: https://github.com/scikit-learn/scikit-learn/issues/21755 */display: inline-block !important;position: relative;}#sk-container-id-1 div.sk-text-repr-fallback {display: none;}</style><div id=\"sk-container-id-1\" class=\"sk-top-container\"><div class=\"sk-text-repr-fallback\"><pre>LinearRegression()</pre><b>In a Jupyter environment, please rerun this cell to show the HTML representation or trust the notebook. <br />On GitHub, the HTML representation is unable to render, please try loading this page with nbviewer.org.</b></div><div class=\"sk-container\" hidden><div class=\"sk-item\"><div class=\"sk-estimator sk-toggleable\"><input class=\"sk-toggleable__control sk-hidden--visually\" id=\"sk-estimator-id-1\" type=\"checkbox\" checked><label for=\"sk-estimator-id-1\" class=\"sk-toggleable__label sk-toggleable__label-arrow\">LinearRegression</label><div class=\"sk-toggleable__content\"><pre>LinearRegression()</pre></div></div></div></div></div>"
      ],
      "text/plain": [
       "LinearRegression()"
      ]
     },
     "execution_count": 12,
     "metadata": {},
     "output_type": "execute_result"
    }
   ],
   "source": [
    "# 初始化线性模型\n",
    "linreg = LinearRegression()\n",
    "linreg.fit(x_train, y_train)"
   ]
  },
  {
   "cell_type": "code",
   "execution_count": 13,
   "id": "4e1f50672effbc28",
   "metadata": {
    "ExecuteTime": {
     "end_time": "2024-01-20T07:49:15.887179Z",
     "start_time": "2024-01-20T07:49:15.881453Z"
    },
    "collapsed": false
   },
   "outputs": [
    {
     "name": "stdout",
     "output_type": "stream",
     "text": [
      "回归系数： [0.65088125 0.46722283 0.3384662  0.00617276 0.42685709] -1.4635041882766183e-14\n"
     ]
    }
   ],
   "source": [
    "print('回归系数：', linreg.coef_, linreg.intercept_)\n",
    "y_pred = linreg.predict(x_test)"
   ]
  },
  {
   "cell_type": "code",
   "execution_count": 14,
   "id": "9983d651682532b0",
   "metadata": {
    "ExecuteTime": {
     "end_time": "2024-01-20T07:50:19.442889Z",
     "start_time": "2024-01-20T07:50:19.440002Z"
    },
    "collapsed": false
   },
   "outputs": [
    {
     "name": "stdout",
     "output_type": "stream",
     "text": [
      "RMSE： 1.0051766837744343\n"
     ]
    }
   ],
   "source": [
    "# 计算预测值和真实值之间的RMSE\n",
    "rmse_test = np.sqrt(np.square(y_test - y_pred).mean())\n",
    "print('RMSE：', rmse_loss)"
   ]
  },
  {
   "cell_type": "code",
   "execution_count": null,
   "id": "93bc6b6392cdb78e",
   "metadata": {
    "collapsed": false
   },
   "outputs": [],
   "source": []
  }
 ],
 "metadata": {
  "kernelspec": {
   "display_name": "Python 3",
   "language": "python",
   "name": "python3"
  },
  "language_info": {
   "codemirror_mode": {
    "name": "ipython",
    "version": 2
   },
   "file_extension": ".py",
   "mimetype": "text/x-python",
   "name": "python",
   "nbconvert_exporter": "python",
   "pygments_lexer": "ipython2",
   "version": "3.11.7"
  }
 },
 "nbformat": 4,
 "nbformat_minor": 5
}
